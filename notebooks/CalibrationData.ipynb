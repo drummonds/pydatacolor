{
 "cells": [
  {
   "cell_type": "code",
   "execution_count": 1,
   "id": "c7793393-66dd-4c23-857f-baa8320e3699",
   "metadata": {
    "tags": []
   },
   "outputs": [],
   "source": [
    "# LAB raw values\n",
    "calib = [102.7,-0.4,-2.7]  \n",
    "greys =[[110.1   , 0.4 ,   4.4],\n",
    "       [93.0   , 0.2 ,   1.2],  \n",
    "    [78.2   , 0.2  ,  0.5],  \n",
    "    [   63.5 ,   0.6   , 0.8], \n",
    "       [50.0  ,  0.2  ,  0.4], \n",
    "       [37.0   , 0.6 ,   0.3],]\n",
    "       \n",
    "colours =[[  42.9,    15.2 ,   -49.8],\n",
    "          [ 70.2  ,  -40.3  , 34.3],\n",
    "          [ 56.5   , 50.9  ,  28.2], \n",
    "          [ 94.9   , 0.9  ,  81.0 ],\n",
    "          [ 64.6  ,  48.3   , -15.2],\n",
    "          [ 64.9   , -28.2  ,  -28.9]]  \n"
   ]
  },
  {
   "cell_type": "code",
   "execution_count": 2,
   "id": "13f24f09-24aa-4a4f-a9ca-9395c52b5a66",
   "metadata": {
    "tags": []
   },
   "outputs": [],
   "source": [
    "import colour"
   ]
  },
  {
   "cell_type": "code",
   "execution_count": 3,
   "id": "870038c1-e9d3-40f0-a044-a384b7c1d38e",
   "metadata": {
    "tags": []
   },
   "outputs": [],
   "source": [
    "import numpy as np\n",
    "import matplotlib.pyplot as plt\n",
    "import colour\n",
    "import colour.plotting as cp \n",
    "from colour.characterisation import ColourChecker\n",
    "\n",
    "cc = colour.characterisation.datasets.colour_checkers.CCS_COLOURCHECKERS"
   ]
  },
  {
   "cell_type": "code",
   "execution_count": 4,
   "id": "72422f73-76b0-4558-a9a9-c87a8bdd37fa",
   "metadata": {
    "tags": []
   },
   "outputs": [
    {
     "data": {
      "image/png": "[encoded data removed]",
      "text/plain": [
       "<Figure size 640x480 with 1 Axes>"
      ]
     },
     "metadata": {},
     "output_type": "display_data"
    },
    {
     "data": {
      "text/plain": [
       "(<Figure size 640x480 with 1 Axes>,\n",
       " <Axes: title={'center': 'ColorChecker24 - After November 2014'}>)"
      ]
     },
     "execution_count": 4,
     "metadata": {},
     "output_type": "execute_result"
    }
   ],
   "source": [
    "ref = \"ColorChecker24 - After November 2014\"\n",
    "cp.plot_single_colour_checker(ref, text_kwargs={\"visible\": False})"
   ]
  },
  {
   "cell_type": "code",
   "execution_count": 5,
   "id": "cf89ea98-a5c8-4b70-9894-bdb9606ac8d2",
   "metadata": {
    "tags": []
   },
   "outputs": [
    {
     "data": {
      "text/plain": [
       "['white 9.5 (.05 D)',\n",
       " 'neutral 8 (.23 D)',\n",
       " 'neutral 6.5 (.44 D)',\n",
       " 'neutral 5 (.70 D)',\n",
       " 'neutral 3.5 (1.05 D)',\n",
       " 'black 2 (1.5 D)']"
      ]
     },
     "execution_count": 5,
     "metadata": {},
     "output_type": "execute_result"
    }
   ],
   "source": [
    "colour_names = list(cc['ColorChecker 2005'].data.keys())\n",
    "# Greys\n",
    "grey_names = colour_names[-6:]\n",
    "raw_greys = {a[1]:a for a in zip(greys,grey_names)}\n",
    "grey_names"
   ]
  },
  {
   "cell_type": "code",
   "execution_count": 6,
   "id": "c04e58de-c27b-4a64-9c69-42e8e854ad31",
   "metadata": {
    "tags": []
   },
   "outputs": [
    {
     "data": {
      "text/plain": [
       "{'white 9.5 (.05 D)': ([110.1, 0.4, 4.4], 'white 9.5 (.05 D)'),\n",
       " 'neutral 8 (.23 D)': ([93.0, 0.2, 1.2], 'neutral 8 (.23 D)'),\n",
       " 'neutral 6.5 (.44 D)': ([78.2, 0.2, 0.5], 'neutral 6.5 (.44 D)'),\n",
       " 'neutral 5 (.70 D)': ([63.5, 0.6, 0.8], 'neutral 5 (.70 D)'),\n",
       " 'neutral 3.5 (1.05 D)': ([50.0, 0.2, 0.4], 'neutral 3.5 (1.05 D)'),\n",
       " 'black 2 (1.5 D)': ([37.0, 0.6, 0.3], 'black 2 (1.5 D)')}"
      ]
     },
     "execution_count": 6,
     "metadata": {},
     "output_type": "execute_result"
    }
   ],
   "source": [
    "{a[1]:a for a in zip(greys,grey_names)}"
   ]
  },
  {
   "cell_type": "code",
   "execution_count": 112,
   "id": "dde7077a-7802-4328-87fb-00d155db2d4c",
   "metadata": {
    "tags": []
   },
   "outputs": [
    {
     "name": "stdout",
     "output_type": "stream",
     "text": [
      "Name                           raw LAB                   ref LAB            dE2000\n",
      "white 9.5 (.05 D)             [ 96.97,  0.40,  4.40] [ 95.19,  0.21,  4.08]      1.12\n",
      "neutral 8 (.23 D)             [ 79.92,  0.20,  1.20] [ 81.29,  0.52,  1.46]      1.08\n",
      "neutral 6.5 (.44 D)           [ 65.17,  0.20,  0.50] [ 66.89,  0.18,  0.81]      1.43\n",
      "neutral 5 (.70 D)             [ 50.51,  0.60,  0.80] [ 50.76,  0.62,  0.84]      0.25\n",
      "neutral 3.5 (1.05 D)          [ 37.05,  0.20,  0.40] [ 35.63,  0.12,  0.06]      1.24\n",
      "black 2 (1.5 D)               [ 24.09,  0.60,  0.30] [ 20.64,  0.48, -0.07]      2.48\n"
     ]
    }
   ],
   "source": [
    "from colormath.color_objects import LabColor, XYZColor, xyYColor\n",
    "from colormath.color_conversions import convert_color\n",
    "\n",
    "D65 = colour.CCS_ILLUMINANTS[\"CIE 1931 2 Degree Standard Observer\"][\"D65\"]\n",
    "D50 = colour.CCS_ILLUMINANTS[\"CIE 1931 2 Degree Standard Observer\"][\"D50\"]\n",
    "\n",
    "def xyY_to_Lab(xyY):\n",
    "    # cm_a = xyYColor(xyY[0],xyY[1],xyY[2])\n",
    "    # # lab = LabColor(0.903, 16.296, -2.22)\n",
    "    # lab = convert_color(cm_a, LabColor)\n",
    "    # return (lab.lab_l,lab.lab_a,lab.lab_b)\n",
    "    # The colour-science conversions need to specify the illuminant\n",
    "    XYZ = colour.xyY_to_XYZ(xyY)\n",
    "    Lab = colour.XYZ_to_Lab(XYZ,res.x)\n",
    "    return Lab\n",
    "\n",
    "print(\"Name                           raw LAB                   ref LAB            dE2000\")\n",
    "for mycolour in grey_names:\n",
    "    print(f\"{mycolour[:30]:30}\",end = \"\")\n",
    "    rg = raw_greys[mycolour]\n",
    "    rg2 = ([rg[0][0]*0.997-12.8,rg[0][1],rg[0][2]],rg[1])\n",
    "    print(f\"[{rg2[0][0]:6.2f},{rg2[0][1]:6.2f},{rg2[0][2]:6.2f}]\",end = \"\")\n",
    "    a = cc[ref].data[mycolour]\n",
    "    b = xyY_to_Lab(a)\n",
    "    print(f\" [{b[0]:6.2f},{b[1]:6.2f},{b[2]:6.2f}]\",end = \"\")\n",
    "    # ref = xyY_to_Lab(cc[reference_set].data[mycolour])\n",
    "    # for b in a[:-4]:\n",
    "    #     print(f\"{de(b[1], ref):10.2f}\", end=\"\")\n",
    "    # aXYZ = colour.xyY_to_XYZ(cc[\"ColorChecker 1976\"].data[mycolour])\n",
    "    # bXYZ = colour.chromatic_adaptation(aXYZ, colour.xy_to_XYZ(C), colour.xy_to_XYZ(D65))\n",
    "    # bLab = colour.XYZ_to_Lab(bXYZ)\n",
    "    # d = colour.difference.delta_E_CIE2000(ref, bLab)\n",
    "    # print(f\"{d:10.2f}\", end=\"\")\n",
    "    d = colour.difference.delta_E_CIE2000(rg2[0], b)\n",
    "    print(f\"{d:10.2f}\", end=\"\")\n",
    "    print()"
   ]
  },
  {
   "cell_type": "code",
   "execution_count": 97,
   "id": "616a5907-6d55-4d4f-8fd2-aa31e3ea8953",
   "metadata": {
    "tags": []
   },
   "outputs": [
    {
     "data": {
      "text/plain": [
       "([22.040000000000003, 0.6, 0.3], 'black 2 (1.5 D)')"
      ]
     },
     "execution_count": 97,
     "metadata": {},
     "output_type": "execute_result"
    }
   ],
   "source": [
    "rg2"
   ]
  },
  {
   "cell_type": "code",
   "execution_count": 17,
   "id": "de21e177-e4b3-45b6-95ef-7586968711d2",
   "metadata": {
    "tags": []
   },
   "outputs": [
    {
     "data": {
      "text/plain": [
       "(array([ 0.34376747,  0.35605763,  0.03151319]),\n",
       " array([ 0.03042544,  0.03151319,  0.02656724]))"
      ]
     },
     "execution_count": 17,
     "metadata": {},
     "output_type": "execute_result"
    }
   ],
   "source": [
    "(a, colour.xyY_to_XYZ(a))"
   ]
  },
  {
   "cell_type": "code",
   "execution_count": 18,
   "id": "f01c5ee3-f57e-4a45-b45b-cb31d3f57e85",
   "metadata": {
    "tags": []
   },
   "outputs": [
    {
     "data": {
      "text/plain": [
       "array([ 20.64      ,   0.06477426,  -0.45473989])"
      ]
     },
     "execution_count": 18,
     "metadata": {},
     "output_type": "execute_result"
    }
   ],
   "source": [
    "b"
   ]
  },
  {
   "cell_type": "code",
   "execution_count": 19,
   "id": "4a2c0acb-909b-4bf3-bbc2-8a4a46fadccb",
   "metadata": {
    "tags": []
   },
   "outputs": [
    {
     "data": {
      "text/plain": [
       "array([ 20.64      ,   0.82794981,   5.16789045])"
      ]
     },
     "execution_count": 19,
     "metadata": {},
     "output_type": "execute_result"
    }
   ],
   "source": [
    "colour.XYZ_to_Lab(colour.xyY_to_XYZ(cc[ref].data[mycolour]))"
   ]
  },
  {
   "cell_type": "code",
   "execution_count": 20,
   "id": "aa3b0eaf-0515-427e-aa3b-10d641045a5e",
   "metadata": {},
   "outputs": [
    {
     "data": {
      "text/plain": [
       "LabColor(lab_l=20.640000000000008,lab_a=0.06890756516883534,lab_b=-0.45203090974813565)"
      ]
     },
     "execution_count": 20,
     "metadata": {},
     "output_type": "execute_result"
    }
   ],
   "source": [
    "from colormath.color_objects import LabColor, XYZColor, xyYColor\n",
    "from colormath.color_conversions import convert_color\n",
    "\n",
    "xyY = xyYColor(a[0],a[1],a[2])\n",
    "# lab = LabColor(0.903, 16.296, -2.22)\n",
    "lab = convert_color(xyY, LabColor)\n",
    "lab"
   ]
  },
  {
   "cell_type": "code",
   "execution_count": 21,
   "id": "af29a830-f287-43bd-a80d-26dce878ea83",
   "metadata": {
    "tags": []
   },
   "outputs": [
    {
     "data": {
      "text/plain": [
       "(20.640000000000008, 0.06890756516883534, -0.45203090974813565)"
      ]
     },
     "execution_count": 21,
     "metadata": {},
     "output_type": "execute_result"
    }
   ],
   "source": [
    "(lab.lab_l,lab.lab_a,lab.lab_b)"
   ]
  },
  {
   "cell_type": "code",
   "execution_count": 22,
   "id": "2fadac8d-5ed3-4924-9239-8bd4ac1dceb9",
   "metadata": {
    "tags": []
   },
   "outputs": [],
   "source": [
    "# Bruce Lindbloom has this data for LAB reference values which seems better\n",
    "bl ={\n",
    "    \"white 9.5 (.05 D)\":[95.370,-0.644,2.583],\n",
    "\"neutral 8 (.23 D)\":[80.984,-0.030,0.270],\n",
    "\"neutral 6.5 (.44 D)\":[66.246,-0.101,0.056],\n",
    "\"neutral 5 (.70 D)\":[51.244,-0.046,0.662],\n",
    "\"neutral 3.5 (1.05 D)\":[35.379,-0.118,-0.144],\n",
    "\"black 2 (1.5 D)\":[20.522,0.352,-0.201]}\n"
   ]
  },
  {
   "cell_type": "code",
   "execution_count": null,
   "id": "25ceb037-131f-4cf3-86bd-0ab284ea6a46",
   "metadata": {
    "tags": []
   },
   "outputs": [],
   "source": []
  },
  {
   "cell_type": "markdown",
   "id": "86565bdb-4860-4a71-8610-0816f58cf13f",
   "metadata": {},
   "source": [
    "# Linear Regression\n",
    "Fit a linear regression to raw to generated grey curve from reference data and see what we get"
   ]
  },
  {
   "cell_type": "code",
   "execution_count": 100,
   "id": "4a276b3f-2c0b-4e0c-8a8b-12f6cbd35d89",
   "metadata": {
    "tags": []
   },
   "outputs": [
    {
     "data": {
      "text/plain": [
       "array([ 110.1,   93. ,   78.2,   63.5,   50. ,   37. ])"
      ]
     },
     "execution_count": 100,
     "metadata": {},
     "output_type": "execute_result"
    }
   ],
   "source": [
    "import numpy as np\n",
    "from sklearn.linear_model import LinearRegression\n",
    "\n",
    "X = np.array([raw_greys[name][0][0]  for name in grey_names])\n",
    "X"
   ]
  },
  {
   "cell_type": "code",
   "execution_count": 101,
   "id": "15be4fa6-be19-445a-8074-aa5e46932522",
   "metadata": {
    "tags": []
   },
   "outputs": [
    {
     "data": {
      "text/plain": [
       "array([ 95.19,  81.29,  66.89,  50.76,  35.63,  20.64])"
      ]
     },
     "execution_count": 101,
     "metadata": {},
     "output_type": "execute_result"
    }
   ],
   "source": [
    "Y = np.array([xyY_to_Lab(cc[ref].data[name])[0]   for name in grey_names])\n",
    "Y"
   ]
  },
  {
   "cell_type": "code",
   "execution_count": 102,
   "id": "87b91d62-8fc1-4a90-b278-c8e71c4ab01e",
   "metadata": {
    "tags": []
   },
   "outputs": [
    {
     "data": {
      "text/plain": [
       "array([[ 95.19],\n",
       "       [ 81.29],\n",
       "       [ 66.89],\n",
       "       [ 50.76],\n",
       "       [ 35.63],\n",
       "       [ 20.64]])"
      ]
     },
     "execution_count": 102,
     "metadata": {},
     "output_type": "execute_result"
    }
   ],
   "source": [
    "Y.reshape(-1, 1)"
   ]
  },
  {
   "cell_type": "code",
   "execution_count": 111,
   "id": "84c5a47b-08c4-403c-b431-077b52813e1b",
   "metadata": {
    "tags": []
   },
   "outputs": [
    {
     "name": "stdout",
     "output_type": "stream",
     "text": [
      "Regression score = 0.9954976711232112\n",
      " Coefficients [[ 0.99688449]] [-12.76199956]\n"
     ]
    }
   ],
   "source": [
    "x1 = X[:-1].reshape(-1, 1)\n",
    "y1 = Y[:-1].reshape(-1, 1)\n",
    "\n",
    "reg = LinearRegression().fit(x1, y1)\n",
    "print(f\"Regression score = {reg.score(x1,y1)}\")\n",
    "print(F\" Coefficients {reg.coef_} {reg.intercept_}\")\n",
    "# array([1., 2.])\n",
    "# >>> reg.intercept_\n",
    "# 3.0...\n",
    "# >>> reg.predict(np.array([[3, 5]]))\n",
    "# array([16.])\n"
   ]
  },
  {
   "cell_type": "code",
   "execution_count": 104,
   "id": "3883513c-1da9-44ab-a474-86b1288b3be7",
   "metadata": {
    "tags": []
   },
   "outputs": [
    {
     "data": {
      "text/plain": [
       "array([-15.70327321])"
      ]
     },
     "execution_count": 104,
     "metadata": {},
     "output_type": "execute_result"
    }
   ],
   "source": [
    "reg.intercept_"
   ]
  },
  {
   "cell_type": "code",
   "execution_count": 105,
   "id": "d148e39a-5f31-4d62-bb95-1a39734e6089",
   "metadata": {
    "tags": []
   },
   "outputs": [
    {
     "ename": "IndexError",
     "evalue": "invalid index to scalar variable.",
     "output_type": "error",
     "traceback": [
      "\u001b[1;31m---------------------------------------------------------------------------\u001b[0m",
      "\u001b[1;31mIndexError\u001b[0m                                Traceback (most recent call last)",
      "Cell \u001b[1;32mIn[105], line 1\u001b[0m\n\u001b[1;32m----> 1\u001b[0m [r[\u001b[38;5;241m0\u001b[39m] \u001b[38;5;28;01mfor\u001b[39;00m r \u001b[38;5;129;01min\u001b[39;00m Y]\n",
      "Cell \u001b[1;32mIn[105], line 1\u001b[0m, in \u001b[0;36m<listcomp>\u001b[1;34m(.0)\u001b[0m\n\u001b[1;32m----> 1\u001b[0m [\u001b[43mr\u001b[49m\u001b[43m[\u001b[49m\u001b[38;5;241;43m0\u001b[39;49m\u001b[43m]\u001b[49m \u001b[38;5;28;01mfor\u001b[39;00m r \u001b[38;5;129;01min\u001b[39;00m Y]\n",
      "\u001b[1;31mIndexError\u001b[0m: invalid index to scalar variable."
     ]
    }
   ],
   "source": [
    "[r[0] for r in Y]"
   ]
  },
  {
   "cell_type": "code",
   "execution_count": 106,
   "id": "5f4b4641-50fc-4ada-bcc3-35088fa80a7b",
   "metadata": {
    "tags": []
   },
   "outputs": [
    {
     "ename": "IndexError",
     "evalue": "invalid index to scalar variable.",
     "output_type": "error",
     "traceback": [
      "\u001b[1;31m---------------------------------------------------------------------------\u001b[0m",
      "\u001b[1;31mIndexError\u001b[0m                                Traceback (most recent call last)",
      "Cell \u001b[1;32mIn[106], line 7\u001b[0m\n\u001b[0;32m      4\u001b[0m plt\u001b[38;5;241m.\u001b[39mstyle\u001b[38;5;241m.\u001b[39muse(\u001b[38;5;124m'\u001b[39m\u001b[38;5;124m_mpl-gallery\u001b[39m\u001b[38;5;124m'\u001b[39m)\n\u001b[0;32m      6\u001b[0m \u001b[38;5;66;03m# make data\u001b[39;00m\n\u001b[1;32m----> 7\u001b[0m x \u001b[38;5;241m=\u001b[39m np\u001b[38;5;241m.\u001b[39marray([r[\u001b[38;5;241m0\u001b[39m] \u001b[38;5;28;01mfor\u001b[39;00m r \u001b[38;5;129;01min\u001b[39;00m Y])\n\u001b[0;32m      8\u001b[0m y \u001b[38;5;241m=\u001b[39m np\u001b[38;5;241m.\u001b[39marray([r[\u001b[38;5;241m0\u001b[39m] \u001b[38;5;28;01mfor\u001b[39;00m r \u001b[38;5;129;01min\u001b[39;00m X])\n\u001b[0;32m     10\u001b[0m x1 \u001b[38;5;241m=\u001b[39m np\u001b[38;5;241m.\u001b[39marray([[\u001b[38;5;241m0\u001b[39m,\u001b[38;5;241m0\u001b[39m,\u001b[38;5;241m0\u001b[39m], [\u001b[38;5;241m100\u001b[39m,\u001b[38;5;241m0\u001b[39m,\u001b[38;5;241m0\u001b[39m]])\n",
      "Cell \u001b[1;32mIn[106], line 7\u001b[0m, in \u001b[0;36m<listcomp>\u001b[1;34m(.0)\u001b[0m\n\u001b[0;32m      4\u001b[0m plt\u001b[38;5;241m.\u001b[39mstyle\u001b[38;5;241m.\u001b[39muse(\u001b[38;5;124m'\u001b[39m\u001b[38;5;124m_mpl-gallery\u001b[39m\u001b[38;5;124m'\u001b[39m)\n\u001b[0;32m      6\u001b[0m \u001b[38;5;66;03m# make data\u001b[39;00m\n\u001b[1;32m----> 7\u001b[0m x \u001b[38;5;241m=\u001b[39m np\u001b[38;5;241m.\u001b[39marray([\u001b[43mr\u001b[49m\u001b[43m[\u001b[49m\u001b[38;5;241;43m0\u001b[39;49m\u001b[43m]\u001b[49m \u001b[38;5;28;01mfor\u001b[39;00m r \u001b[38;5;129;01min\u001b[39;00m Y])\n\u001b[0;32m      8\u001b[0m y \u001b[38;5;241m=\u001b[39m np\u001b[38;5;241m.\u001b[39marray([r[\u001b[38;5;241m0\u001b[39m] \u001b[38;5;28;01mfor\u001b[39;00m r \u001b[38;5;129;01min\u001b[39;00m X])\n\u001b[0;32m     10\u001b[0m x1 \u001b[38;5;241m=\u001b[39m np\u001b[38;5;241m.\u001b[39marray([[\u001b[38;5;241m0\u001b[39m,\u001b[38;5;241m0\u001b[39m,\u001b[38;5;241m0\u001b[39m], [\u001b[38;5;241m100\u001b[39m,\u001b[38;5;241m0\u001b[39m,\u001b[38;5;241m0\u001b[39m]])\n",
      "\u001b[1;31mIndexError\u001b[0m: invalid index to scalar variable."
     ]
    }
   ],
   "source": [
    "import matplotlib.pyplot as plt\n",
    "import numpy as np\n",
    "\n",
    "plt.style.use('_mpl-gallery')\n",
    "\n",
    "# make data\n",
    "x = np.array([r[0] for r in Y])\n",
    "y = np.array([r[0] for r in X])\n",
    "\n",
    "x1 = np.array([[0,0,0], [100,0,0]])\n",
    "y1 = reg.predict(x1)\n",
    "\n",
    "# plot\n",
    "fig, ax = plt.subplots()\n",
    "\n",
    "ax.plot(x, y, linewidth=2.0)\n",
    "ax.scatter(x, y)\n",
    "ax.plot([x[0] for x in x1], [y[0] for y in y1], linewidth=1.0, color=\"red\")\n",
    "\n",
    "# ax.set(xlim=(0, 8), xticks=np.arange(1, 8),\n",
    "#        ylim=(0, 8), yticks=np.arange(1, 8))\n",
    "\n",
    "plt.show()"
   ]
  },
  {
   "cell_type": "code",
   "execution_count": 107,
   "id": "5cd6c5c2-4beb-4f6c-b74d-cb8c859fd840",
   "metadata": {
    "tags": []
   },
   "outputs": [
    {
     "data": {
      "text/plain": [
       "array([[  0,   0,   0],\n",
       "       [100,   0,   0]])"
      ]
     },
     "execution_count": 107,
     "metadata": {},
     "output_type": "execute_result"
    }
   ],
   "source": [
    "x1"
   ]
  },
  {
   "cell_type": "code",
   "execution_count": 37,
   "id": "9351e4ed-ecc7-4466-8b2b-9ec142799ad2",
   "metadata": {
    "tags": []
   },
   "outputs": [],
   "source": [
    "import numpy as np\n",
    "\n",
    "from scipy.optimize import minimize"
   ]
  },
  {
   "cell_type": "code",
   "execution_count": null,
   "id": "d79a7ecf-1a21-4140-81cd-cd9d385bd659",
   "metadata": {},
   "outputs": [],
   "source": [
    "def fit_greys("
   ]
  },
  {
   "cell_type": "code",
   "execution_count": null,
   "id": "41a2f4d0-58fb-4de0-ac4c-54e0714f8525",
   "metadata": {},
   "outputs": [],
   "source": [
    "x0 = np.array([1.3, 0.7, 0.8, 1.9, 1.2])\n",
    "\n",
    "res = minimize(rosen, x0, method='nelder-mead',\n",
    "\n",
    "               options={'xatol': 1e-8, 'disp': True})"
   ]
  },
  {
   "cell_type": "code",
   "execution_count": 114,
   "id": "d3424908-9c93-4b52-a7c2-50b5b4656bd9",
   "metadata": {
    "tags": []
   },
   "outputs": [
    {
     "name": "stdout",
     "output_type": "stream",
     "text": [
      "Ref Colour checkern = ColorChecker24 - After November 2014\n",
      "Illuminant = [ 0.3457  0.3585]\n",
      "Avg dE2000 fit = 2.021368940124141\n",
      "Illuminant = [ 0.3127  0.329 ]\n",
      "Avg dE2000 fit = 8.097072105968147\n"
     ]
    },
    {
     "data": {
      "text/plain": [
       "8.097072105968147"
      ]
     },
     "execution_count": 114,
     "metadata": {},
     "output_type": "execute_result"
    }
   ],
   "source": [
    "# ref ColourChecker defined above\n",
    "print(f\"Ref Colour checkern = {ref}\")\n",
    "def xyY_to_Lab2(xyY, illiuminant):\n",
    "    # cm_a = xyYColor(xyY[0],xyY[1],xyY[2])\n",
    "    # # lab = LabColor(0.903, 16.296, -2.22)\n",
    "    # lab = convert_color(cm_a, LabColor)\n",
    "    # return (lab.lab_l,lab.lab_a,lab.lab_b)\n",
    "    # The colour-science conversions need to specify the illuminant\n",
    "    XYZ = colour.xyY_to_XYZ(xyY)\n",
    "    Lab = colour.XYZ_to_Lab(XYZ, illiuminant)\n",
    "    return Lab\n",
    "\n",
    "X = np.array([raw_greys[name][0]  for name in grey_names])\n",
    "\n",
    "def test_illuminant(illuminant, verbose = False):\n",
    "    sum = 0.0\n",
    "    for mycolour in grey_names:\n",
    "        rg = raw_greys[mycolour]\n",
    "        rg2 = ([rg[0][0]*0.997-12.8,rg[0][1],rg[0][2]],rg[1])\n",
    "        a = cc[ref].data[mycolour]\n",
    "        b = xyY_to_Lab2(a, illuminant)\n",
    "        d = colour.difference.delta_E_CIE2000(rg2[0], b)\n",
    "        sum += d\n",
    "    fit = sum/len(grey_names)\n",
    "    # Y = np.array([xyY_to_Lab2(cc[ref].data[name], illuminant)   for name in grey_names])\n",
    "    # reg = LinearRegression().fit(X, Y)\n",
    "    # fit = (1-reg.score(X, Y))*100\n",
    "    if verbose:\n",
    "        print(f\"Illuminant = {illuminant}\")\n",
    "        print(f\"Avg dE2000 fit = {fit}\")\n",
    "    return fit\n",
    "\n",
    "test_illuminant(D50, verbose = True)\n",
    "test_illuminant(D65, verbose = True)"
   ]
  },
  {
   "cell_type": "code",
   "execution_count": 115,
   "id": "72d9348a-7b73-4ce4-bf57-b8ee7bbaa146",
   "metadata": {
    "tags": []
   },
   "outputs": [
    {
     "name": "stdout",
     "output_type": "stream",
     "text": [
      "Optimization terminated successfully.\n",
      "         Current function value: 1.266882\n",
      "         Iterations: 21\n",
      "         Function evaluations: 41\n"
     ]
    },
    {
     "data": {
      "text/plain": [
       "       message: Optimization terminated successfully.\n",
       "       success: True\n",
       "        status: 0\n",
       "           fun: 1.26688203393\n",
       "             x: [ 3.421e-01  3.576e-01]\n",
       "           nit: 21\n",
       "          nfev: 41\n",
       " final_simplex: (array([[ 3.421e-01,  3.576e-01],\n",
       "                       [ 3.421e-01,  3.575e-01],\n",
       "                       [ 3.422e-01,  3.576e-01]]), array([ 1.267e+00,  1.267e+00,  1.267e+00]))"
      ]
     },
     "execution_count": 115,
     "metadata": {},
     "output_type": "execute_result"
    }
   ],
   "source": [
    "res = minimize(test_illuminant, np.array([ 0.3457,  0.3585]), method='nelder-mead',\n",
    "\n",
    "               options={'xatol': 1e-1, 'disp': True})\n",
    "res"
   ]
  },
  {
   "cell_type": "code",
   "execution_count": 119,
   "id": "3d958804-eeec-4907-bfc9-82037194d542",
   "metadata": {
    "tags": []
   },
   "outputs": [
    {
     "name": "stdout",
     "output_type": "stream",
     "text": [
      "Fitted illuminant 0.3421 0.3576\n"
     ]
    }
   ],
   "source": [
    "dfit = res.x\n",
    "print(f\"Fitted illuminant {dfit[0]:6.4f} {dfit[1]:6.4f}\") "
   ]
  },
  {
   "cell_type": "code",
   "execution_count": 57,
   "id": "10f65dcc-662e-4949-ba60-f53a840a2763",
   "metadata": {
    "tags": []
   },
   "outputs": [
    {
     "data": {
      "text/plain": [
       "array([ 0.3457,  0.3585])"
      ]
     },
     "execution_count": 57,
     "metadata": {},
     "output_type": "execute_result"
    }
   ],
   "source": [
    "D50"
   ]
  },
  {
   "cell_type": "code",
   "execution_count": 61,
   "id": "ada9245a-8c0a-41cd-870a-8f534f96104c",
   "metadata": {
    "tags": []
   },
   "outputs": [
    {
     "data": {
      "text/plain": [
       "array([ 0.40305784,  0.54206495])"
      ]
     },
     "execution_count": 61,
     "metadata": {},
     "output_type": "execute_result"
    }
   ],
   "source": [
    "res.x"
   ]
  },
  {
   "cell_type": "code",
   "execution_count": null,
   "id": "fb45caba-e798-4fc8-b372-e2468814459c",
   "metadata": {},
   "outputs": [],
   "source": []
  }
 ],
 "metadata": {
  "kernelspec": {
   "display_name": "Python 3 (ipykernel)",
   "language": "python",
   "name": "python3"
  },
  "language_info": {
   "codemirror_mode": {
    "name": "ipython",
    "version": 3
   },
   "file_extension": ".py",
   "mimetype": "text/x-python",
   "name": "python",
   "nbconvert_exporter": "python",
   "pygments_lexer": "ipython3",
   "version": "3.10.11"
  }
 },
 "nbformat": 4,
 "nbformat_minor": 5
}
