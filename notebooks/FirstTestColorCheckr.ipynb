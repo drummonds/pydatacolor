{
 "cells": [
  {
   "cell_type": "markdown",
   "id": "23843882-ead0-444c-b7e8-65f73fc5acfe",
   "metadata": {},
   "source": [
    "# Test run to see if can measure\n",
    "Using the Measure function on the SPyderCher24 I did 26 meauremnts.  The first two were on the white sample\n",
    "and then the card.\n",
    "\n",
    "the results are at the bottom Using test4.py, with averaging 100 samples which takes about 7 seconds per sample.\n",
    "\n",
    "At the bottom is some parsing of the raw output from test4.py\n"
   ]
  },
  {
   "cell_type": "code",
   "execution_count": 2,
   "id": "b3f3b9fe-195b-4071-be76-1e924a9d87ee",
   "metadata": {
    "tags": []
   },
   "outputs": [
    {
     "data": {
      "text/plain": [
       "[['33.8', '0.6', '-0.0'],\n",
       " ['47.6', '0.3', '1.7'],\n",
       " ['61.8', '0.1', '1.5'],\n",
       " ['77.6', '0.4', '1.7'],\n",
       " ['91.3', '0.7', '1.9'],\n",
       " ['105.7', '0.9', '2.0'],\n",
       " ['40.6', '12.1', '-47.1'],\n",
       " ['65.8', '-38.9', '33.4'],\n",
       " ['53.0', '55.9', '28.9'],\n",
       " ['91.4', '1.9', '81.2'],\n",
       " ['57.6', '46.8', '-13.0'],\n",
       " ['56.9', '-27.2', '-24.4'],\n",
       " ['84.1', '21.1', '70.0'],\n",
       " ['83.9', '-24.0', '59.2'],\n",
       " ['42.3', '18.0', '-24.3'],\n",
       " ['63.9', '48.8', '15.7'],\n",
       " ['51.3', '6.0', '-40.4'],\n",
       " ['73.3', '34.7', '61.1'],\n",
       " ['47.6', '13.0', '15.4'],\n",
       " ['75.4', '17.3', '17.4'],\n",
       " ['60.1', '-4.4', '-21.3'],\n",
       " ['54.9', '-17.8', '23.6'],\n",
       " ['66.4', '6.6', '-24.4'],\n",
       " ['82.3', '-31.3', '2.3']]"
      ]
     },
     "execution_count": 2,
     "metadata": {},
     "output_type": "execute_result"
    }
   ],
   "source": [
    "sc"
   ]
  },
  {
   "cell_type": "code",
   "execution_count": 5,
   "id": "bce446bd-91b5-4763-9cde-c9673c29303d",
   "metadata": {},
   "outputs": [
    {
     "data": {
      "image/png": "[encoded data removed]",
      "text/plain": [
       "<Figure size 640x480 with 1 Axes>"
      ]
     },
     "metadata": {},
     "output_type": "display_data"
    }
   ],
   "source": [
    "import numpy as np\n",
    "import matplotlib.pyplot as plt\n",
    "import pandas as pd\n",
    "import colour\n",
    "import colour.plotting as cp \n",
    "CHECKER_VERSION = \"ColorChecker 1976\"\n",
    "cp.plot_single_colour_checker(CHECKER_VERSION, text_kwargs={\"visible\": False} )\n",
    "import drawsvg as draw\n"
   ]
  },
  {
   "cell_type": "code",
   "execution_count": 13,
   "id": "78243138-cf6a-4603-b49f-28125e3f45db",
   "metadata": {
    "tags": []
   },
   "outputs": [
    {
     "data": {
      "image/svg+xml": [
       "<?xml version=\"1.0\" encoding=\"UTF-8\"?>\n",
       "<svg xmlns=\"http://www.w3.org/2000/svg\" xmlns:xlink=\"http://www.w3.org/1999/xlink\"\n",
       "     width=\"600\" height=\"400\" viewBox=\"0 0 600 400\">\n",
       "<defs>\n",
       "</defs>\n",
       "<rect x=\"0\" y=\"0\" width=\"100\" height=\"100\" fill=\"#504F4F\" />\n",
       "<rect x=\"100\" y=\"0\" width=\"200\" height=\"100\" fill=\"#72706E\" />\n",
       "<rect x=\"200\" y=\"0\" width=\"300\" height=\"100\" fill=\"#969592\" />\n",
       "<rect x=\"300\" y=\"0\" width=\"400\" height=\"100\" fill=\"#C1BFBC\" />\n",
       "<rect x=\"400\" y=\"0\" width=\"500\" height=\"100\" fill=\"#E9E5E2\" />\n",
       "<rect x=\"500\" y=\"0\" width=\"600\" height=\"100\" fill=\"#11310E10B\" />\n",
       "<rect x=\"0\" y=\"100\" width=\"100\" height=\"200\" fill=\"#305DAD\" />\n",
       "<rect x=\"100\" y=\"100\" width=\"200\" height=\"200\" fill=\"#67B061\" />\n",
       "<rect x=\"200\" y=\"100\" width=\"300\" height=\"200\" fill=\"#DB4C50\" />\n",
       "<rect x=\"300\" y=\"100\" width=\"400\" height=\"200\" fill=\"#112E13A\" />\n",
       "<rect x=\"400\" y=\"100\" width=\"500\" height=\"200\" fill=\"#CC68A2\" />\n",
       "<rect x=\"500\" y=\"100\" width=\"600\" height=\"200\" fill=\"#-5D97B2\" />\n",
       "<rect x=\"0\" y=\"200\" width=\"100\" height=\"300\" fill=\"#116C047\" />\n",
       "<rect x=\"100\" y=\"200\" width=\"200\" height=\"300\" fill=\"#C7DB5B\" />\n",
       "<rect x=\"200\" y=\"200\" width=\"300\" height=\"300\" fill=\"#6D5B8B\" />\n",
       "<rect x=\"300\" y=\"200\" width=\"400\" height=\"300\" fill=\"#F07481\" />\n",
       "<rect x=\"400\" y=\"200\" width=\"500\" height=\"300\" fill=\"#4F7ABF\" />\n",
       "<rect x=\"500\" y=\"200\" width=\"600\" height=\"300\" fill=\"#1069841\" />\n",
       "<rect x=\"0\" y=\"300\" width=\"100\" height=\"400\" fill=\"#8E6857\" />\n",
       "<rect x=\"100\" y=\"300\" width=\"200\" height=\"400\" fill=\"#E3AD9A\" />\n",
       "<rect x=\"200\" y=\"300\" width=\"300\" height=\"400\" fill=\"#6F94B5\" />\n",
       "<rect x=\"300\" y=\"300\" width=\"400\" height=\"400\" fill=\"#728A59\" />\n",
       "<rect x=\"400\" y=\"300\" width=\"500\" height=\"400\" fill=\"#959FCD\" />\n",
       "<rect x=\"500\" y=\"300\" width=\"600\" height=\"400\" fill=\"#85DCC7\" />\n",
       "</svg>"
      ],
      "text/plain": [
       "<drawsvg.drawing.Drawing at 0x19f5c6bdfc0>"
      ]
     },
     "execution_count": 13,
     "metadata": {},
     "output_type": "execute_result"
    }
   ],
   "source": [
    "def rgb_to_hex(c):\n",
    "    c1 = c*255\n",
    "    c2 = f\"#{int(c1[0]):02X}{int(c1[1]):02X}{int(c1[2]):02X}\"\n",
    "    return c2\n",
    "\n",
    "def swatch(d, RGB, n):\n",
    "    x = (n % 6)*100\n",
    "    y = (n// 6) *100\n",
    "    # Draw a rectangle\n",
    "    r = draw.Rectangle(x, y, x+100, y+100, fill=rgb_to_hex(RGB))\n",
    "    return r\n",
    "\n",
    "def lab_to_RGB(lab):\n",
    "    D65 = np.array([0.3127,0.3290])\n",
    "    XYZ = p3 = colour.Lab_to_XYZ(lab)\n",
    "    RGB = colour.plotting.XYZ_to_plotting_colourspace(\n",
    "        XYZ, \n",
    "        D65)\n",
    "    return RGB\n",
    "\n",
    "d = draw.Drawing(600, 400)\n",
    "for i in range(24):\n",
    "    d.append(swatch(d,lab_to_RGB(sc[i]),i))\n",
    "d"
   ]
  },
  {
   "cell_type": "code",
   "execution_count": null,
   "id": "52d1fb31-869f-4162-8ffb-475cb2127dc4",
   "metadata": {},
   "outputs": [],
   "source": []
  },
  {
   "cell_type": "code",
   "execution_count": 5,
   "id": "bd783d4e-e975-451f-9a35-540cfdc4898e",
   "metadata": {
    "tags": []
   },
   "outputs": [
    {
     "data": {
      "text/plain": [
       "ColourChecker(name='ColorChecker 1976', data={'dark skin': array([ 0.4002,  0.3504,  0.1005]), 'light skin': array([ 0.3773,  0.3446,  0.3582]), 'blue sky': array([ 0.247 ,  0.2514,  0.1933]), 'foliage': array([ 0.3372,  0.422 ,  0.1329]), 'blue flower': array([ 0.2651,  0.24  ,  0.2427]), 'bluish green': array([ 0.2608,  0.343 ,  0.4306]), 'orange': array([ 0.506 ,  0.407 ,  0.3005]), 'purplish blue': array([ 0.211,  0.175,  0.12 ]), 'moderate red': array([ 0.4533,  0.3058,  0.1977]), 'purple': array([ 0.2845,  0.202 ,  0.0656]), 'yellow green': array([ 0.38  ,  0.4887,  0.4429]), 'orange yellow': array([ 0.4729,  0.4375,  0.4306]), 'blue': array([ 0.1866,  0.1285,  0.0611]), 'green': array([ 0.3046,  0.4782,  0.2339]), 'red': array([ 0.5385,  0.3129,  0.12  ]), 'yellow': array([ 0.448 ,  0.4703,  0.591 ]), 'magenta': array([ 0.3635,  0.2325,  0.1977]), 'cyan': array([ 0.1958,  0.2519,  0.1977]), 'white 9.5 (.05 D)': array([ 0.3101,  0.3163,  0.9001]), 'neutral 8 (.23 D)': array([ 0.3101,  0.3163,  0.591 ]), 'neutral 6.5 (.44 D)': array([ 0.3101,  0.3163,  0.362 ]), 'neutral 5 (.70 D)': array([ 0.3101,  0.3163,  0.1977]), 'neutral 3.5 (1.05 D)': array([ 0.3101,  0.3163,  0.09  ]), 'black 2 (1.5 D)': array([ 0.3101,  0.3163,  0.0313])}, illuminant=array([ 0.31006,  0.31616]))"
      ]
     },
     "execution_count": 5,
     "metadata": {},
     "output_type": "execute_result"
    }
   ],
   "source": [
    "cc = colour.characterisation.datasets.colour_checkers.CCS_COLOURCHECKERS\n",
    "cc[\"ColorChecker 1976\"]"
   ]
  },
  {
   "cell_type": "code",
   "execution_count": null,
   "id": "9f896b8d-560a-4f2f-9294-95e75da175e2",
   "metadata": {},
   "outputs": [],
   "source": []
  },
  {
   "cell_type": "code",
   "execution_count": 1,
   "id": "a0d27f69-975d-4ece-8c2f-a9b9a7e1eb73",
   "metadata": {},
   "outputs": [
    {
     "ename": "NameError",
     "evalue": "name 'colour' is not defined",
     "output_type": "error",
     "traceback": [
      "\u001b[1;31m---------------------------------------------------------------------------\u001b[0m",
      "\u001b[1;31mNameError\u001b[0m                                 Traceback (most recent call last)",
      "Cell \u001b[1;32mIn[1], line 5\u001b[0m\n\u001b[0;32m      3\u001b[0m     c2 \u001b[38;5;241m=\u001b[39m \u001b[38;5;124mf\u001b[39m\u001b[38;5;124m\"\u001b[39m\u001b[38;5;124m#\u001b[39m\u001b[38;5;132;01m{\u001b[39;00m\u001b[38;5;28mint\u001b[39m(c1[\u001b[38;5;241m0\u001b[39m])\u001b[38;5;132;01m:\u001b[39;00m\u001b[38;5;124m02X\u001b[39m\u001b[38;5;132;01m}\u001b[39;00m\u001b[38;5;132;01m{\u001b[39;00m\u001b[38;5;28mint\u001b[39m(c1[\u001b[38;5;241m1\u001b[39m])\u001b[38;5;132;01m:\u001b[39;00m\u001b[38;5;124m02X\u001b[39m\u001b[38;5;132;01m}\u001b[39;00m\u001b[38;5;132;01m{\u001b[39;00m\u001b[38;5;28mint\u001b[39m(c1[\u001b[38;5;241m2\u001b[39m])\u001b[38;5;132;01m:\u001b[39;00m\u001b[38;5;124m02X\u001b[39m\u001b[38;5;132;01m}\u001b[39;00m\u001b[38;5;124m\"\u001b[39m\n\u001b[0;32m      4\u001b[0m     \u001b[38;5;28;01mreturn\u001b[39;00m c2\n\u001b[1;32m----> 5\u001b[0m cc \u001b[38;5;241m=\u001b[39m \u001b[43mcolour\u001b[49m\u001b[38;5;241m.\u001b[39mcharacterisation\u001b[38;5;241m.\u001b[39mdatasets\u001b[38;5;241m.\u001b[39mcolour_checkers\u001b[38;5;241m.\u001b[39mCCS_COLOURCHECKERS\n\u001b[0;32m      7\u001b[0m \u001b[38;5;28;01mdef\u001b[39;00m \u001b[38;5;21mswatch\u001b[39m(RGB):\n\u001b[0;32m      8\u001b[0m     d \u001b[38;5;241m=\u001b[39m draw\u001b[38;5;241m.\u001b[39mDrawing(\u001b[38;5;241m100\u001b[39m, \u001b[38;5;241m100\u001b[39m, origin\u001b[38;5;241m=\u001b[39m\u001b[38;5;124m'\u001b[39m\u001b[38;5;124mcenter\u001b[39m\u001b[38;5;124m'\u001b[39m)\n",
      "\u001b[1;31mNameError\u001b[0m: name 'colour' is not defined"
     ]
    }
   ],
   "source": [
    "    \n",
    "p = cc[CHECKER_VERSION].data[\"purple\"]\n",
    "print(f\"In xyY space this is purple (p): {p}\")\n",
    "p1 = colour.xyY_to_XYZ(p)\n",
    "print(f\"In XYZ space this is purple (p1): {p1}\")\n",
    "p2 = colour.XYZ_to_Lab(p1)\n",
    "print(f\"to Lab (p2): {p2}\")\n",
    "p3 = colour.XYZ_to_sRGB(p1)\n",
    "print(f\"XYZ to sRGB default (p3): {p3} hex {rgb_to_hex(p3)}\")\n",
    "swatch(p3)"
   ]
  },
  {
   "cell_type": "code",
   "execution_count": 2,
   "id": "dc77cdae-c2f7-47a4-ab39-f4560f33c58c",
   "metadata": {
    "tags": []
   },
   "outputs": [
    {
     "name": "stdout",
     "output_type": "stream",
     "text": [
      "Num lines = 106\n"
     ]
    }
   ],
   "source": [
    "cc = \"\"\"  Measurement press button to continue\n",
    "Result from button press is array('B', [250])\n",
    "Measurement  xx       L      a*       b*\n",
    "            0.0    101.0     -1.2     -2.2 \n",
    "          0.000    0.010    0.044    0.033 \n",
    "Result from button press is array('B', [250])\n",
    "Measurement  xx       L      a*       b*\n",
    "            0.0    101.0     -1.3     -2.2\n",
    "          0.000    0.011    0.040    0.033\n",
    "Result from button press is array('B', [250])\n",
    "Measurement  xx       L      a*       b*\n",
    "            0.0     33.8      0.6     -0.0\n",
    "          0.000    0.142    0.344    0.203\n",
    "Result from button press is array('B', [250])\n",
    "Measurement  xx       L      a*       b*\n",
    "            0.0     47.6      0.3      1.7\n",
    "          0.000    0.101    0.142    0.091\n",
    "Result from button press is array('B', [250])\n",
    "Measurement  xx       L      a*       b*\n",
    "            0.0     61.8      0.1      1.5\n",
    "          0.000    0.333    0.086    0.057\n",
    "Result from button press is array('B', [250])\n",
    "Measurement  xx       L      a*       b*\n",
    "            0.0     77.6      0.4      1.7\n",
    "          0.000    0.210    0.087    0.058\n",
    "Result from button press is array('B', [250])\n",
    "Measurement  xx       L      a*       b*\n",
    "            0.0     91.3      0.7      1.9\n",
    "          0.000    0.516    0.113    0.078\n",
    "Result from button press is array('B', [250])\n",
    "Measurement  xx       L      a*       b*\n",
    "            0.0    105.7      0.9      2.0\n",
    "          0.000    0.333    0.053    0.047\n",
    "Result from button press is array('B', [250])\n",
    "Measurement  xx       L      a*       b*\n",
    "            0.0     40.6     12.1    -47.1\n",
    "          0.000    0.086    0.133    0.099\n",
    "Result from button press is array('B', [250])\n",
    "Measurement  xx       L      a*       b*\n",
    "            0.0     65.8    -38.9     33.4\n",
    "          0.000    0.051    0.110    0.110\n",
    "Result from button press is array('B', [250])\n",
    "Measurement  xx       L      a*       b*\n",
    "            0.0     53.0     55.9     28.9\n",
    "          0.000    0.191    0.179    0.208\n",
    "Result from button press is array('B', [250])\n",
    "Measurement  xx       L      a*       b*\n",
    "            0.0     91.4      1.9     81.2\n",
    "          0.000    0.772    0.192    0.792\n",
    "Result from button press is array('B', [250])\n",
    "Measurement  xx       L      a*       b*\n",
    "            0.0     57.6     46.8    -13.0\n",
    "          0.000    0.673    0.650    0.679\n",
    "Result from button press is array('B', [250])\n",
    "Measurement  xx       L      a*       b*\n",
    "            0.0     56.9    -27.2    -24.4\n",
    "          0.000    1.156    0.799    0.518\n",
    "Result from button press is array('B', [250])\n",
    "Measurement  xx       L      a*       b*\n",
    "            0.0     84.1     21.1     70.0\n",
    "          0.000    0.077    0.048    0.116\n",
    "Result from button press is array('B', [250])\n",
    "Measurement  xx       L      a*       b*\n",
    "            0.0     83.9    -24.0     59.2\n",
    "          0.000    0.079    0.066    0.073\n",
    "Result from button press is array('B', [250])\n",
    "Measurement  xx       L      a*       b*\n",
    "            0.0     42.3     18.0    -24.3\n",
    "          0.000    0.095    0.129    0.068\n",
    "Result from button press is array('B', [250])\n",
    "Measurement  xx       L      a*       b*\n",
    "            0.0     63.9     48.8     15.7\n",
    "          0.000    0.044    0.063    0.068\n",
    "Result from button press is array('B', [250])\n",
    "Measurement  xx       L      a*       b*\n",
    "            0.0     51.3      6.0    -40.4\n",
    "          0.000    0.077    0.119    0.065\n",
    "Result from button press is array('B', [250])\n",
    "Measurement  xx       L      a*       b*\n",
    "            0.0     73.3     34.7     61.1\n",
    "          0.000    0.035    0.050    0.086\n",
    "Result from button press is array('B', [250])\n",
    "Measurement  xx       L      a*       b*\n",
    "            0.0     47.6     13.0     15.4\n",
    "          0.000    0.133    0.126    0.134\n",
    "Result from button press is array('B', [250])\n",
    "Measurement  xx       L      a*       b*\n",
    "            0.0     75.4     17.3     17.4\n",
    "          0.000    0.162    0.065    0.063\n",
    "Result from button press is array('B', [250])\n",
    "Measurement  xx       L      a*       b*\n",
    "            0.0     60.1     -4.4    -21.3\n",
    "          0.000    0.062    0.081    0.044\n",
    "Result from button press is array('B', [250])\n",
    "Measurement  xx       L      a*       b*\n",
    "            0.0     54.9    -17.8     23.6\n",
    "          0.000    0.055    0.110    0.109\n",
    "Result from button press is array('B', [250])\n",
    "Measurement  xx       L      a*       b*\n",
    "            0.0     66.4      6.6    -24.4\n",
    "          0.000    0.059    0.060    0.043\n",
    "Result from button press is array('B', [250])\n",
    "Measurement  xx       L      a*       b*\n",
    "            0.0     82.3    -31.3      2.3\n",
    "          0.000    0.056    0.067    0.044\n",
    "\"\"\"\n",
    "c = cc.split(\"\\n\")\n",
    "print(f\"Num lines = {len(c)}\")\n",
    "sc = []\n",
    "for i in range(24):\n",
    "    index = 11+ i*4\n",
    "    entry = [f for f in c[index].strip().split(\" \") if f][1:]\n",
    "    sc.append(entry)"
   ]
  },
  {
   "cell_type": "markdown",
   "id": "bd894497-93bc-4dbf-9442-e9cb5df596a7",
   "metadata": {},
   "source": [
    "```\n",
    "  Measurement press button to continue\n",
    "Result from button press is array('B', [250])\n",
    "Measurement  xx       L      a*       b*\n",
    "            0.0    101.0     -1.2     -2.2 \n",
    "          0.000    0.010    0.044    0.033 \n",
    "Result from button press is array('B', [250])\n",
    "Measurement  xx       L      a*       b*\n",
    "            0.0    101.0     -1.3     -2.2\n",
    "          0.000    0.011    0.040    0.033\n",
    "Result from button press is array('B', [250])\n",
    "Measurement  xx       L      a*       b*\n",
    "            0.0     33.8      0.6     -0.0\n",
    "          0.000    0.142    0.344    0.203\n",
    "Result from button press is array('B', [250])\n",
    "Measurement  xx       L      a*       b*\n",
    "            0.0     47.6      0.3      1.7\n",
    "          0.000    0.101    0.142    0.091\n",
    "Result from button press is array('B', [250])\n",
    "Measurement  xx       L      a*       b*\n",
    "            0.0     61.8      0.1      1.5\n",
    "          0.000    0.333    0.086    0.057\n",
    "Result from button press is array('B', [250])\n",
    "Measurement  xx       L      a*       b*\n",
    "            0.0     77.6      0.4      1.7\n",
    "          0.000    0.210    0.087    0.058\n",
    "Result from button press is array('B', [250])\n",
    "Measurement  xx       L      a*       b*\n",
    "            0.0     91.3      0.7      1.9\n",
    "          0.000    0.516    0.113    0.078\n",
    "Result from button press is array('B', [250])\n",
    "Measurement  xx       L      a*       b*\n",
    "            0.0    105.7      0.9      2.0\n",
    "          0.000    0.333    0.053    0.047\n",
    "Result from button press is array('B', [250])\n",
    "Measurement  xx       L      a*       b*\n",
    "            0.0     40.6     12.1    -47.1\n",
    "          0.000    0.086    0.133    0.099\n",
    "Result from button press is array('B', [250])\n",
    "Measurement  xx       L      a*       b*\n",
    "            0.0     65.8    -38.9     33.4\n",
    "          0.000    0.051    0.110    0.110\n",
    "Result from button press is array('B', [250])\n",
    "Measurement  xx       L      a*       b*\n",
    "            0.0     53.0     55.9     28.9\n",
    "          0.000    0.191    0.179    0.208\n",
    "Result from button press is array('B', [250])\n",
    "Measurement  xx       L      a*       b*\n",
    "            0.0     91.4      1.9     81.2\n",
    "          0.000    0.772    0.192    0.792\n",
    "Result from button press is array('B', [250])\n",
    "Measurement  xx       L      a*       b*\n",
    "            0.0     57.6     46.8    -13.0\n",
    "          0.000    0.673    0.650    0.679\n",
    "Result from button press is array('B', [250])\n",
    "Measurement  xx       L      a*       b*\n",
    "            0.0     56.9    -27.2    -24.4\n",
    "          0.000    1.156    0.799    0.518\n",
    "Result from button press is array('B', [250])\n",
    "Measurement  xx       L      a*       b*\n",
    "            0.0     84.1     21.1     70.0\n",
    "          0.000    0.077    0.048    0.116\n",
    "Result from button press is array('B', [250])\n",
    "Measurement  xx       L      a*       b*\n",
    "            0.0     83.9    -24.0     59.2\n",
    "          0.000    0.079    0.066    0.073\n",
    "Result from button press is array('B', [250])\n",
    "Measurement  xx       L      a*       b*\n",
    "            0.0     42.3     18.0    -24.3\n",
    "          0.000    0.095    0.129    0.068\n",
    "Result from button press is array('B', [250])\n",
    "Measurement  xx       L      a*       b*\n",
    "            0.0     63.9     48.8     15.7\n",
    "          0.000    0.044    0.063    0.068\n",
    "Result from button press is array('B', [250])\n",
    "Measurement  xx       L      a*       b*\n",
    "            0.0     51.3      6.0    -40.4\n",
    "          0.000    0.077    0.119    0.065\n",
    "Result from button press is array('B', [250])\n",
    "Measurement  xx       L      a*       b*\n",
    "            0.0     73.3     34.7     61.1\n",
    "          0.000    0.035    0.050    0.086\n",
    "Result from button press is array('B', [250])\n",
    "Measurement  xx       L      a*       b*\n",
    "            0.0     47.6     13.0     15.4\n",
    "          0.000    0.133    0.126    0.134\n",
    "Result from button press is array('B', [250])\n",
    "Measurement  xx       L      a*       b*\n",
    "            0.0     75.4     17.3     17.4\n",
    "          0.000    0.162    0.065    0.063\n",
    "Result from button press is array('B', [250])\n",
    "Measurement  xx       L      a*       b*\n",
    "            0.0     60.1     -4.4    -21.3\n",
    "          0.000    0.062    0.081    0.044\n",
    "Result from button press is array('B', [250])\n",
    "Measurement  xx       L      a*       b*\n",
    "            0.0     54.9    -17.8     23.6\n",
    "          0.000    0.055    0.110    0.109\n",
    "Result from button press is array('B', [250])\n",
    "Measurement  xx       L      a*       b*\n",
    "            0.0     66.4      6.6    -24.4\n",
    "          0.000    0.059    0.060    0.043\n",
    "Result from button press is array('B', [250])\n",
    "Measurement  xx       L      a*       b*\n",
    "            0.0     82.3    -31.3      2.3\n",
    "          0.000    0.056    0.067    0.044\n",
    "Done this\n",
    "```"
   ]
  }
 ],
 "metadata": {
  "kernelspec": {
   "display_name": "Python 3 (ipykernel)",
   "language": "python",
   "name": "python3"
  },
  "language_info": {
   "codemirror_mode": {
    "name": "ipython",
    "version": 3
   },
   "file_extension": ".py",
   "mimetype": "text/x-python",
   "name": "python",
   "nbconvert_exporter": "python",
   "pygments_lexer": "ipython3",
   "version": "3.10.11"
  }
 },
 "nbformat": 4,
 "nbformat_minor": 5
}
